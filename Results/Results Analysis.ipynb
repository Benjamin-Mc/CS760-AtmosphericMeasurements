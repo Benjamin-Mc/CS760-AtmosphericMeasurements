{
 "cells": [
  {
   "cell_type": "markdown",
   "id": "79a07192",
   "metadata": {},
   "source": [
    "### Results Analysis\n",
    "\n",
    "Using the predictions from each model, we use two metrics to evaluate their performance. The first is the Root Mean Squared Error (RMSE), which compares the difference between the true and predicted values. We can also use the Relative RMSE (RRMSE), which takes into account the range of values, by dividing the error for each prediction by the average of the true values. Note that since we can have negative values of temperature, we take the average temperature as if they were scaled to a non negative range. We do not need to do this for Relative Humidity as it is a percentage."
   ]
  },
  {
   "cell_type": "code",
   "execution_count": 40,
   "id": "efa4620d",
   "metadata": {},
   "outputs": [],
   "source": [
    "import numpy as np\n",
    "import pandas as pd"
   ]
  },
  {
   "cell_type": "code",
   "execution_count": 41,
   "id": "62bd9171",
   "metadata": {
    "scrolled": true
   },
   "outputs": [
    {
     "data": {
      "text/html": [
       "<div>\n",
       "<style scoped>\n",
       "    .dataframe tbody tr th:only-of-type {\n",
       "        vertical-align: middle;\n",
       "    }\n",
       "\n",
       "    .dataframe tbody tr th {\n",
       "        vertical-align: top;\n",
       "    }\n",
       "\n",
       "    .dataframe thead th {\n",
       "        text-align: right;\n",
       "    }\n",
       "</style>\n",
       "<table border=\"1\" class=\"dataframe\">\n",
       "  <thead>\n",
       "    <tr style=\"text-align: right;\">\n",
       "      <th></th>\n",
       "      <th>imgPath</th>\n",
       "      <th>True Humidity</th>\n",
       "      <th>Predicted Humidity</th>\n",
       "      <th>True Temperature</th>\n",
       "      <th>Predicted Temperature</th>\n",
       "    </tr>\n",
       "  </thead>\n",
       "  <tbody>\n",
       "    <tr>\n",
       "      <th>0</th>\n",
       "      <td>/save/1093-0/59/1547644059_1093-0.jpg</td>\n",
       "      <td>94.9</td>\n",
       "      <td>96.076110</td>\n",
       "      <td>3.3</td>\n",
       "      <td>3.261744</td>\n",
       "    </tr>\n",
       "    <tr>\n",
       "      <th>1</th>\n",
       "      <td>/save/1242-0/21/1550749821_1242-0.jpg</td>\n",
       "      <td>92.1</td>\n",
       "      <td>82.935870</td>\n",
       "      <td>6.2</td>\n",
       "      <td>3.165185</td>\n",
       "    </tr>\n",
       "    <tr>\n",
       "      <th>2</th>\n",
       "      <td>/save/67-0/20/1545653420_67-0.jpg</td>\n",
       "      <td>87.7</td>\n",
       "      <td>88.564290</td>\n",
       "      <td>0.0</td>\n",
       "      <td>5.446164</td>\n",
       "    </tr>\n",
       "    <tr>\n",
       "      <th>3</th>\n",
       "      <td>/save/1881-0/44/1550920444_1881-0.jpg</td>\n",
       "      <td>47.7</td>\n",
       "      <td>44.015015</td>\n",
       "      <td>-1.9</td>\n",
       "      <td>-0.994632</td>\n",
       "    </tr>\n",
       "    <tr>\n",
       "      <th>4</th>\n",
       "      <td>/save/1215-0/46/1551016246_1215-0.jpg</td>\n",
       "      <td>39.3</td>\n",
       "      <td>66.698550</td>\n",
       "      <td>7.7</td>\n",
       "      <td>4.745274</td>\n",
       "    </tr>\n",
       "  </tbody>\n",
       "</table>\n",
       "</div>"
      ],
      "text/plain": [
       "                                 imgPath  True Humidity  Predicted Humidity  \\\n",
       "0  /save/1093-0/59/1547644059_1093-0.jpg           94.9           96.076110   \n",
       "1  /save/1242-0/21/1550749821_1242-0.jpg           92.1           82.935870   \n",
       "2      /save/67-0/20/1545653420_67-0.jpg           87.7           88.564290   \n",
       "3  /save/1881-0/44/1550920444_1881-0.jpg           47.7           44.015015   \n",
       "4  /save/1215-0/46/1551016246_1215-0.jpg           39.3           66.698550   \n",
       "\n",
       "   True Temperature  Predicted Temperature  \n",
       "0               3.3               3.261744  \n",
       "1               6.2               3.165185  \n",
       "2               0.0               5.446164  \n",
       "3              -1.9              -0.994632  \n",
       "4               7.7               4.745274  "
      ]
     },
     "execution_count": 41,
     "metadata": {},
     "output_type": "execute_result"
    }
   ],
   "source": [
    "results = pd.read_csv(\"multitask_colour_256_predictions.csv\")\n",
    "results.head()"
   ]
  },
  {
   "cell_type": "code",
   "execution_count": 42,
   "id": "e1ee54b0",
   "metadata": {},
   "outputs": [
    {
     "name": "stdout",
     "output_type": "stream",
     "text": [
      "Model Specifications: Multitask, Colour, 256x256\n",
      "Temperature RMSE (degrees Celsius): 2.5519\n",
      "Temperature RRMSE (%): 21.88\n",
      "Humidity RMSE (%): 8.8238\n",
      "Humidity RRMSE (%): 11.540000000000001\n"
     ]
    }
   ],
   "source": [
    "trueTemp = np.asarray(results[\"True Temperature\"])\n",
    "predTemp = np.asarray(results[\"Predicted Temperature\"])\n",
    "tempRMSE = np.round(np.sqrt(np.mean((trueTemp - predTemp) ** 2)), 4)\n",
    "scaledAvgTemp = np.mean(trueTemp) - min(trueTemp)\n",
    "tempRRMSE = np.round(np.sqrt(np.mean(((trueTemp - predTemp) / scaledAvgTemp) ** 2)), 4) * 100\n",
    "\n",
    "trueHum = np.asarray(results[\"True Humidity\"])\n",
    "predHum = np.asarray(results[\"Predicted Humidity\"])\n",
    "humRMSE = np.round(np.sqrt(np.mean((trueHum - predHum) ** 2)), 4)\n",
    "avgHum = np.mean(trueHum)\n",
    "humRRMSE = np.round(np.sqrt(np.mean(((trueHum - predHum) / avgHum) ** 2)), 4) * 100\n",
    "\n",
    "print(\"Model Specifications: Multitask, Colour, 256x256\")\n",
    "print(\"Temperature RMSE (degrees Celsius): {}\".format(tempRMSE))\n",
    "print(\"Temperature RRMSE (%): {}\".format(tempRRMSE))\n",
    "print(\"Humidity RMSE (%): {}\".format(humRMSE))\n",
    "print(\"Humidity RRMSE (%): {}\".format(humRRMSE))"
   ]
  },
  {
   "cell_type": "code",
   "execution_count": 43,
   "id": "62c64f61",
   "metadata": {},
   "outputs": [
    {
     "name": "stdout",
     "output_type": "stream",
     "text": [
      "Model Specifications: Multitask, Greyscale, 256x256\n",
      "Temperature RMSE (degrees Celsius): 2.6475\n",
      "Temperature RRMSE (%): 22.7\n",
      "Humidity RMSE (%): 10.5663\n",
      "Humidity RRMSE (%): 13.81\n"
     ]
    }
   ],
   "source": [
    "results = pd.read_csv(\"multitask_grey_256_predictions.csv\")\n",
    "\n",
    "trueTemp = np.asarray(results[\"True Temperature\"])\n",
    "predTemp = np.asarray(results[\"Predicted Temperature\"])\n",
    "tempRMSE = np.round(np.sqrt(np.mean((trueTemp - predTemp) ** 2)), 4)\n",
    "scaledAvgTemp = np.mean(trueTemp) - min(trueTemp)\n",
    "tempRRMSE = np.round(np.sqrt(np.mean(((trueTemp - predTemp) / scaledAvgTemp) ** 2)), 4) * 100\n",
    "\n",
    "trueHum = np.asarray(results[\"True Humidity\"])\n",
    "predHum = np.asarray(results[\"Predicted Humidity\"])\n",
    "humRMSE = np.round(np.sqrt(np.mean((trueHum - predHum) ** 2)), 4)\n",
    "avgHum = np.mean(trueHum)\n",
    "humRRMSE = np.round(np.sqrt(np.mean(((trueHum - predHum) / avgHum) ** 2)), 4) * 100\n",
    "\n",
    "print(\"Model Specifications: Multitask, Greyscale, 256x256\")\n",
    "print(\"Temperature RMSE (degrees Celsius): {}\".format(tempRMSE))\n",
    "print(\"Temperature RRMSE (%): {}\".format(tempRRMSE))\n",
    "print(\"Humidity RMSE (%): {}\".format(humRMSE))\n",
    "print(\"Humidity RRMSE (%): {}\".format(humRRMSE))"
   ]
  },
  {
   "cell_type": "code",
   "execution_count": 44,
   "id": "9895939e",
   "metadata": {},
   "outputs": [
    {
     "name": "stdout",
     "output_type": "stream",
     "text": [
      "Model Specifications: Singletask(Temperature), Colour, 256x256\n",
      "Temperature RMSE (degrees Celsius): 2.2448\n",
      "Temperature RRMSE (%): 19.25\n"
     ]
    }
   ],
   "source": [
    "results = pd.read_csv(\"singletask_temperature_colour_256_predictions.csv\")\n",
    "\n",
    "trueTemp = np.asarray(results[\"True Temperature\"])\n",
    "predTemp = np.asarray(results[\"Predicted Temperature\"])\n",
    "tempRMSE = np.round(np.sqrt(np.mean((trueTemp - predTemp) ** 2)), 4)\n",
    "scaledAvgTemp = np.mean(trueTemp) - min(trueTemp)\n",
    "tempRRMSE = np.round(np.sqrt(np.mean(((trueTemp - predTemp) / scaledAvgTemp) ** 2)), 4) * 100\n",
    "\n",
    "print(\"Model Specifications: Singletask(Temperature), Colour, 256x256\")\n",
    "print(\"Temperature RMSE (degrees Celsius): {}\".format(tempRMSE))\n",
    "print(\"Temperature RRMSE (%): {}\".format(tempRRMSE))"
   ]
  },
  {
   "cell_type": "code",
   "execution_count": 45,
   "id": "8a2aae60",
   "metadata": {},
   "outputs": [
    {
     "name": "stdout",
     "output_type": "stream",
     "text": [
      "Model Specifications: Singletask(Humidity), Colour, 256x256\n",
      "Humidity RMSE (%): 9.0761\n",
      "Humidity RRMSE (%): 11.87\n"
     ]
    }
   ],
   "source": [
    "results = pd.read_csv(\"singletask_humidity_colour_256_predictions.csv\")\n",
    "\n",
    "trueHum = np.asarray(results[\"True Humidity\"])\n",
    "predHum = np.asarray(results[\"Predicted Humidity\"])\n",
    "humRMSE = np.round(np.sqrt(np.mean((trueHum - predHum) ** 2)), 4)\n",
    "avgHum = np.mean(trueHum)\n",
    "humRRMSE = np.round(np.sqrt(np.mean(((trueHum - predHum) / avgHum) ** 2)), 4) * 100\n",
    "\n",
    "print(\"Model Specifications: Singletask(Humidity), Colour, 256x256\")\n",
    "print(\"Humidity RMSE (%): {}\".format(humRMSE))\n",
    "print(\"Humidity RRMSE (%): {}\".format(humRRMSE))"
   ]
  },
  {
   "cell_type": "code",
   "execution_count": 46,
   "id": "df1e12d8",
   "metadata": {},
   "outputs": [
    {
     "name": "stdout",
     "output_type": "stream",
     "text": [
      "Model Parameters: Multitask, Colour, 128x128\n",
      "Temperature RMSE (degrees Celsius): 2.9499\n",
      "Temperature RRMSE (%): 25.290000000000003\n",
      "Humidity RMSE (%): 8.8695\n",
      "Humidity RRMSE (%): 11.600000000000001\n"
     ]
    }
   ],
   "source": [
    "results = pd.read_csv(\"multitask_colour_128_predictions.csv\")\n",
    "\n",
    "trueTemp = np.asarray(results[\"True Temperature\"])\n",
    "predTemp = np.asarray(results[\"Predicted Temperature\"])\n",
    "tempRMSE = np.round(np.sqrt(np.mean((trueTemp - predTemp) ** 2)), 4)\n",
    "scaledAvgTemp = np.mean(trueTemp) - min(trueTemp)\n",
    "tempRRMSE = np.round(np.sqrt(np.mean(((trueTemp - predTemp) / scaledAvgTemp) ** 2)), 4) * 100\n",
    "\n",
    "trueHum = np.asarray(results[\"True Humidity\"])\n",
    "predHum = np.asarray(results[\"Predicted Humidity\"])\n",
    "humRMSE = np.round(np.sqrt(np.mean((trueHum - predHum) ** 2)), 4)\n",
    "avgHum = np.mean(trueHum)\n",
    "humRRMSE = np.round(np.sqrt(np.mean(((trueHum - predHum) / avgHum) ** 2)), 4) * 100\n",
    "\n",
    "print(\"Model Parameters: Multitask, Colour, 128x128\")\n",
    "print(\"Temperature RMSE (degrees Celsius): {}\".format(tempRMSE))\n",
    "print(\"Temperature RRMSE (%): {}\".format(tempRRMSE))\n",
    "print(\"Humidity RMSE (%): {}\".format(humRMSE))\n",
    "print(\"Humidity RRMSE (%): {}\".format(humRRMSE))"
   ]
  },
  {
   "cell_type": "code",
   "execution_count": 47,
   "id": "939d6e43",
   "metadata": {},
   "outputs": [
    {
     "name": "stdout",
     "output_type": "stream",
     "text": [
      "Model Parameters: Multitask, Colour, 64x64\n",
      "Temperature RMSE (degrees Celsius): 3.2826\n",
      "Temperature RRMSE (%): 28.139999999999997\n",
      "Humidity RMSE (%): 9.7431\n",
      "Humidity RRMSE (%): 12.740000000000002\n"
     ]
    }
   ],
   "source": [
    "results = pd.read_csv(\"multitask_colour_64_predictions.csv\")\n",
    "\n",
    "trueTemp = np.asarray(results[\"True Temperature\"])\n",
    "predTemp = np.asarray(results[\"Predicted Temperature\"])\n",
    "tempRMSE = np.round(np.sqrt(np.mean((trueTemp - predTemp) ** 2)), 4)\n",
    "scaledAvgTemp = np.mean(trueTemp) - min(trueTemp)\n",
    "tempRRMSE = np.round(np.sqrt(np.mean(((trueTemp - predTemp) / scaledAvgTemp) ** 2)), 4) * 100\n",
    "\n",
    "trueHum = np.asarray(results[\"True Humidity\"])\n",
    "predHum = np.asarray(results[\"Predicted Humidity\"])\n",
    "humRMSE = np.round(np.sqrt(np.mean((trueHum - predHum) ** 2)), 4)\n",
    "avgHum = np.mean(trueHum)\n",
    "humRRMSE = np.round(np.sqrt(np.mean(((trueHum - predHum) / avgHum) ** 2)), 4) * 100\n",
    "\n",
    "print(\"Model Parameters: Multitask, Colour, 64x64\")\n",
    "print(\"Temperature RMSE (degrees Celsius): {}\".format(tempRMSE))\n",
    "print(\"Temperature RRMSE (%): {}\".format(tempRRMSE))\n",
    "print(\"Humidity RMSE (%): {}\".format(humRMSE))\n",
    "print(\"Humidity RRMSE (%): {}\".format(humRRMSE))"
   ]
  }
 ],
 "metadata": {
  "kernelspec": {
   "display_name": "Python 3 (ipykernel)",
   "language": "python",
   "name": "python3"
  },
  "language_info": {
   "codemirror_mode": {
    "name": "ipython",
    "version": 3
   },
   "file_extension": ".py",
   "mimetype": "text/x-python",
   "name": "python",
   "nbconvert_exporter": "python",
   "pygments_lexer": "ipython3",
   "version": "3.10.6"
  }
 },
 "nbformat": 4,
 "nbformat_minor": 5
}
