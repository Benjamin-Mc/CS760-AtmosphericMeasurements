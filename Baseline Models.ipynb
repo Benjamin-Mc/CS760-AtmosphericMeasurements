{
 "cells": [
  {
   "cell_type": "markdown",
   "id": "d6590b52",
   "metadata": {},
   "source": [
    "### Initial Baseline Model"
   ]
  },
  {
   "cell_type": "markdown",
   "id": "5fbd9b53",
   "metadata": {},
   "source": [
    "To compare with future models, we use an initial baseline model. For each output measurement (temperature and relative humidity), this model simply takes the mean value across all training examples and predicts this for any testing examples.\n",
    "\n",
    "We use two metrics, the Root Mean Squared Error (RMSE), comparing the difference between true and predicted values, and the Relative RMSE (RRMSE), that takes the range of values into account."
   ]
  },
  {
   "cell_type": "code",
   "execution_count": 1,
   "id": "c421fad3",
   "metadata": {},
   "outputs": [],
   "source": [
    "import numpy as np\n",
    "import pandas as pd"
   ]
  },
  {
   "cell_type": "code",
   "execution_count": 2,
   "id": "c9c13a4b",
   "metadata": {},
   "outputs": [],
   "source": [
    "traindf = pd.read_csv(\"train.csv\")\n",
    "testdf = pd.read_csv(\"test.csv\")"
   ]
  },
  {
   "cell_type": "code",
   "execution_count": 3,
   "id": "17caf7fa",
   "metadata": {},
   "outputs": [
    {
     "data": {
      "text/html": [
       "<div>\n",
       "<style scoped>\n",
       "    .dataframe tbody tr th:only-of-type {\n",
       "        vertical-align: middle;\n",
       "    }\n",
       "\n",
       "    .dataframe tbody tr th {\n",
       "        vertical-align: top;\n",
       "    }\n",
       "\n",
       "    .dataframe thead th {\n",
       "        text-align: right;\n",
       "    }\n",
       "</style>\n",
       "<table border=\"1\" class=\"dataframe\">\n",
       "  <thead>\n",
       "    <tr style=\"text-align: right;\">\n",
       "      <th></th>\n",
       "      <th>stationId</th>\n",
       "      <th>imageDate</th>\n",
       "      <th>imgPath</th>\n",
       "      <th>meteoDate</th>\n",
       "      <th>dew</th>\n",
       "      <th>humidity</th>\n",
       "      <th>precipitation</th>\n",
       "      <th>roadCondition</th>\n",
       "      <th>temperature C bellow 5cm</th>\n",
       "      <th>temperature C 0cm</th>\n",
       "      <th>temperature C 20cm</th>\n",
       "      <th>temperature C 2m</th>\n",
       "      <th>warnings</th>\n",
       "      <th>wind direction</th>\n",
       "      <th>speed[m/s]</th>\n",
       "      <th>imageDate_t</th>\n",
       "      <th>imageDate_ts</th>\n",
       "      <th>cluster</th>\n",
       "      <th>time</th>\n",
       "    </tr>\n",
       "  </thead>\n",
       "  <tbody>\n",
       "    <tr>\n",
       "      <th>0</th>\n",
       "      <td>1093-0</td>\n",
       "      <td>16/01/2019 13:07</td>\n",
       "      <td>/save/1093-0/59/1547644059_1093-0.jpg</td>\n",
       "      <td>16/01/2019 13:00</td>\n",
       "      <td>2.5</td>\n",
       "      <td>94.9</td>\n",
       "      <td>none</td>\n",
       "      <td>wet</td>\n",
       "      <td>0</td>\n",
       "      <td>3.6</td>\n",
       "      <td>3.3</td>\n",
       "      <td>3.3</td>\n",
       "      <td>none</td>\n",
       "      <td>349</td>\n",
       "      <td>1.9</td>\n",
       "      <td>16/01/2019 13:07</td>\n",
       "      <td>5836059</td>\n",
       "      <td>2</td>\n",
       "      <td>13:07:39</td>\n",
       "    </tr>\n",
       "    <tr>\n",
       "      <th>1</th>\n",
       "      <td>1242-0</td>\n",
       "      <td>21/02/2019 11:50</td>\n",
       "      <td>/save/1242-0/21/1550749821_1242-0.jpg</td>\n",
       "      <td>21/02/2019 11:50</td>\n",
       "      <td>5.0</td>\n",
       "      <td>92.1</td>\n",
       "      <td>shower</td>\n",
       "      <td>wet</td>\n",
       "      <td>0</td>\n",
       "      <td>8.6</td>\n",
       "      <td>0.0</td>\n",
       "      <td>6.2</td>\n",
       "      <td>none</td>\n",
       "      <td>57</td>\n",
       "      <td>0.5</td>\n",
       "      <td>21/02/2019 11:50</td>\n",
       "      <td>8941821</td>\n",
       "      <td>0</td>\n",
       "      <td>11:50:21</td>\n",
       "    </tr>\n",
       "    <tr>\n",
       "      <th>2</th>\n",
       "      <td>67-0</td>\n",
       "      <td>24/12/2018 12:10</td>\n",
       "      <td>/save/67-0/20/1545653420_67-0.jpg</td>\n",
       "      <td>24/12/2018 13:06</td>\n",
       "      <td>-1.8</td>\n",
       "      <td>87.7</td>\n",
       "      <td>unknown</td>\n",
       "      <td>saline</td>\n",
       "      <td>0</td>\n",
       "      <td>1.2</td>\n",
       "      <td>0.0</td>\n",
       "      <td>0.0</td>\n",
       "      <td>low warning</td>\n",
       "      <td>136</td>\n",
       "      <td>5.6</td>\n",
       "      <td>24/12/2018 12:10</td>\n",
       "      <td>3845420</td>\n",
       "      <td>1</td>\n",
       "      <td>12:10:20</td>\n",
       "    </tr>\n",
       "    <tr>\n",
       "      <th>3</th>\n",
       "      <td>1881-0</td>\n",
       "      <td>23/02/2019 11:14</td>\n",
       "      <td>/save/1881-0/44/1550920444_1881-0.jpg</td>\n",
       "      <td>23/02/2019 11:10</td>\n",
       "      <td>-11.7</td>\n",
       "      <td>47.7</td>\n",
       "      <td>none</td>\n",
       "      <td>dry</td>\n",
       "      <td>0</td>\n",
       "      <td>6.2</td>\n",
       "      <td>0.2</td>\n",
       "      <td>-1.9</td>\n",
       "      <td>none</td>\n",
       "      <td>19</td>\n",
       "      <td>0.0</td>\n",
       "      <td>23/02/2019 11:14</td>\n",
       "      <td>9112444</td>\n",
       "      <td>0</td>\n",
       "      <td>11:14:04</td>\n",
       "    </tr>\n",
       "    <tr>\n",
       "      <th>4</th>\n",
       "      <td>1215-0</td>\n",
       "      <td>24/02/2019 13:50</td>\n",
       "      <td>/save/1215-0/46/1551016246_1215-0.jpg</td>\n",
       "      <td>24/02/2019 13:50</td>\n",
       "      <td>-5.4</td>\n",
       "      <td>39.3</td>\n",
       "      <td>none</td>\n",
       "      <td>dry</td>\n",
       "      <td>0</td>\n",
       "      <td>12.4</td>\n",
       "      <td>0.0</td>\n",
       "      <td>7.7</td>\n",
       "      <td>none</td>\n",
       "      <td>178</td>\n",
       "      <td>0.0</td>\n",
       "      <td>24/02/2019 13:50</td>\n",
       "      <td>9208246</td>\n",
       "      <td>0</td>\n",
       "      <td>13:50:46</td>\n",
       "    </tr>\n",
       "  </tbody>\n",
       "</table>\n",
       "</div>"
      ],
      "text/plain": [
       "  stationId         imageDate                                imgPath  \\\n",
       "0    1093-0  16/01/2019 13:07  /save/1093-0/59/1547644059_1093-0.jpg   \n",
       "1    1242-0  21/02/2019 11:50  /save/1242-0/21/1550749821_1242-0.jpg   \n",
       "2      67-0  24/12/2018 12:10      /save/67-0/20/1545653420_67-0.jpg   \n",
       "3    1881-0  23/02/2019 11:14  /save/1881-0/44/1550920444_1881-0.jpg   \n",
       "4    1215-0  24/02/2019 13:50  /save/1215-0/46/1551016246_1215-0.jpg   \n",
       "\n",
       "          meteoDate   dew  humidity precipitation roadCondition  \\\n",
       "0  16/01/2019 13:00   2.5      94.9          none           wet   \n",
       "1  21/02/2019 11:50   5.0      92.1        shower           wet   \n",
       "2  24/12/2018 13:06  -1.8      87.7       unknown        saline   \n",
       "3  23/02/2019 11:10 -11.7      47.7          none           dry   \n",
       "4  24/02/2019 13:50  -5.4      39.3          none           dry   \n",
       "\n",
       "   temperature C bellow 5cm  temperature C 0cm  temperature C 20cm  \\\n",
       "0                         0                3.6                 3.3   \n",
       "1                         0                8.6                 0.0   \n",
       "2                         0                1.2                 0.0   \n",
       "3                         0                6.2                 0.2   \n",
       "4                         0               12.4                 0.0   \n",
       "\n",
       "   temperature C 2m     warnings  wind direction  speed[m/s]  \\\n",
       "0               3.3         none             349         1.9   \n",
       "1               6.2         none              57         0.5   \n",
       "2               0.0  low warning             136         5.6   \n",
       "3              -1.9         none              19         0.0   \n",
       "4               7.7         none             178         0.0   \n",
       "\n",
       "        imageDate_t  imageDate_ts  cluster      time  \n",
       "0  16/01/2019 13:07       5836059        2  13:07:39  \n",
       "1  21/02/2019 11:50       8941821        0  11:50:21  \n",
       "2  24/12/2018 12:10       3845420        1  12:10:20  \n",
       "3  23/02/2019 11:14       9112444        0  11:14:04  \n",
       "4  24/02/2019 13:50       9208246        0  13:50:46  "
      ]
     },
     "execution_count": 3,
     "metadata": {},
     "output_type": "execute_result"
    }
   ],
   "source": [
    "testdf.head()"
   ]
  },
  {
   "cell_type": "code",
   "execution_count": 4,
   "id": "a10e764b",
   "metadata": {},
   "outputs": [],
   "source": [
    "#extract features\n",
    "humidityFeature = traindf[\"humidity\"].values\n",
    "temperatureFeature = traindf[\"temperature C 2m\"].values"
   ]
  },
  {
   "cell_type": "code",
   "execution_count": 5,
   "id": "95f6ea85",
   "metadata": {},
   "outputs": [],
   "source": [
    "testHumidity = testdf[\"humidity\"].values\n",
    "testTemperature = testdf[\"temperature C 2m\"].values"
   ]
  },
  {
   "cell_type": "code",
   "execution_count": 6,
   "id": "f3ddc868",
   "metadata": {},
   "outputs": [
    {
     "name": "stdout",
     "output_type": "stream",
     "text": [
      "Mean Humidity: 76.4434\n"
     ]
    }
   ],
   "source": [
    "meanHumidity = np.round(np.mean(humidityFeature), 4)\n",
    "print(\"Mean Humidity: {}\".format(meanHumidity))\n",
    "baseHumPrediction = np.asarray([meanHumidity for i in range(testdf.shape[0])])"
   ]
  },
  {
   "cell_type": "code",
   "execution_count": 7,
   "id": "c8832f76",
   "metadata": {},
   "outputs": [
    {
     "name": "stdout",
     "output_type": "stream",
     "text": [
      "Mean Temperature: 3.7677\n"
     ]
    }
   ],
   "source": [
    "meanTemperature = np.round(np.mean(temperatureFeature), 4)\n",
    "print(\"Mean Temperature: {}\".format(meanTemperature))\n",
    "baseTempPrediction = np.asarray([meanTemperature for i in range(testdf.shape[0])])"
   ]
  },
  {
   "cell_type": "code",
   "execution_count": 8,
   "id": "c1525eda",
   "metadata": {},
   "outputs": [
    {
     "name": "stdout",
     "output_type": "stream",
     "text": [
      "Baseline Humidity RMSE (%): 21.3469\n",
      "Baseline Humidity RRMSE (%): 27.91\n"
     ]
    }
   ],
   "source": [
    "humidityRMSE = np.round(np.sqrt(np.mean((testHumidity - baseHumPrediction) ** 2)), 4)\n",
    "print(\"Baseline Humidity RMSE (%): {}\".format(humidityRMSE))\n",
    "avgHumidity = np.mean(testHumidity)\n",
    "humidityRRMSE = np.round(np.sqrt(np.mean((testHumidity - baseHumPrediction) ** 2)) / avgHumidity, 4) * 100\n",
    "print(\"Baseline Humidity RRMSE (%): {}\".format(humidityRRMSE))"
   ]
  },
  {
   "cell_type": "code",
   "execution_count": 9,
   "id": "a3b45b3e",
   "metadata": {},
   "outputs": [
    {
     "name": "stdout",
     "output_type": "stream",
     "text": [
      "Baseline Temperature RMSE (degrees Celsius): 4.7704\n",
      "Baseline Temperature RRMSE (%): 40.9\n"
     ]
    }
   ],
   "source": [
    "temperatureRMSE = np.round(np.sqrt(np.mean((testTemperature - baseTempPrediction) ** 2)), 4)\n",
    "print(\"Baseline Temperature RMSE (degrees Celsius): {}\".format(temperatureRMSE))\n",
    "scaledAvgTemperature = np.mean(testTemperature) - min(testTemperature)\n",
    "temperatureRRMSE = np.round(np.sqrt(np.mean((testTemperature - baseTempPrediction) ** 2)) / scaledAvgTemperature, 4) * 100\n",
    "print(\"Baseline Temperature RRMSE (%): {}\".format(temperatureRRMSE))"
   ]
  },
  {
   "cell_type": "markdown",
   "id": "b01c9763",
   "metadata": {},
   "source": [
    "### Improved Baseline Model"
   ]
  },
  {
   "cell_type": "markdown",
   "id": "27bf56dc",
   "metadata": {},
   "source": [
    "As we've noted, the trained models rely on the features specific to each station to learn and predict. Therefore, we also consider a baseline model that takes the mean value across all training examples for a particular station and predicts this value on any testing examples for that station."
   ]
  },
  {
   "cell_type": "code",
   "execution_count": 10,
   "id": "f78fab52",
   "metadata": {},
   "outputs": [
    {
     "name": "stdout",
     "output_type": "stream",
     "text": [
      "Improved Baseline Humidity RMSE (%): 14.269\n",
      "Baseline Humidity RRMSE (%): 18.66\n"
     ]
    }
   ],
   "source": [
    "stationHums = {}\n",
    "for i in range(traindf.shape[0]):\n",
    "    station = traindf.iloc[i][0]\n",
    "    humidity = traindf.iloc[i][5]\n",
    "    if station not in stationHums.keys():\n",
    "        stationHums[station] = [humidity]\n",
    "    else:\n",
    "        stationHums[station].append(humidity)\n",
    "\n",
    "for key in stationHums.keys():\n",
    "    station = key\n",
    "    humidities = stationHums[station]\n",
    "    stationMeanHum = np.round(np.mean(humidities), 4)\n",
    "    stationHums[station] = stationMeanHum\n",
    "\n",
    "baseHumPrediction = []\n",
    "for i in range(testdf.shape[0]):\n",
    "    testStation = testdf.iloc[i][0]\n",
    "    stationMeanHum = stationHums[testStation]\n",
    "    baseHumPrediction.append(stationMeanHum)\n",
    "\n",
    "humidityRMSE = np.round(np.sqrt(np.mean((testHumidity - baseHumPrediction) ** 2)), 4)\n",
    "print(\"Improved Baseline Humidity RMSE (%): {}\".format(humidityRMSE))\n",
    "avgHumidity = np.mean(testHumidity)\n",
    "humidityRRMSE = np.round(np.sqrt(np.mean((testHumidity - baseHumPrediction) ** 2)) / avgHumidity, 4) * 100\n",
    "print(\"Baseline Humidity RRMSE (%): {}\".format(humidityRRMSE))"
   ]
  },
  {
   "cell_type": "code",
   "execution_count": 11,
   "id": "10cb244e",
   "metadata": {
    "scrolled": true
   },
   "outputs": [
    {
     "name": "stdout",
     "output_type": "stream",
     "text": [
      "Improved Baseline Temperature RMSE (degrees Celsius): 3.898\n",
      "Baseline Temperature RRMSE (%): 33.42\n"
     ]
    }
   ],
   "source": [
    "stationTemps = {}\n",
    "for i in range(traindf.shape[0]):\n",
    "    station = traindf.iloc[i][0]\n",
    "    temperature = traindf.iloc[i][11]\n",
    "    if station not in stationTemps.keys():\n",
    "        stationTemps[station] = [temperature]\n",
    "    else:\n",
    "        stationTemps[station].append(temperature)\n",
    "\n",
    "for key in stationTemps.keys():\n",
    "    station = key\n",
    "    temps = stationTemps[station]\n",
    "    stationMeanTemp = np.round(np.mean(temps), 4)\n",
    "    stationTemps[station] = stationMeanTemp\n",
    "\n",
    "baseTempPrediction = []\n",
    "for i in range(testdf.shape[0]):\n",
    "    testStation = testdf.iloc[i][0]\n",
    "    stationMeanTemp = stationTemps[testStation]\n",
    "    baseTempPrediction.append(stationMeanTemp)\n",
    "\n",
    "temperatureRMSE = np.round(np.sqrt(np.mean((testTemperature - baseTempPrediction) ** 2)), 4)\n",
    "print(\"Improved Baseline Temperature RMSE (degrees Celsius): {}\".format(temperatureRMSE))\n",
    "scaledAvgTemperature = np.mean(testTemperature) - min(testTemperature)\n",
    "temperatureRRMSE = np.round(np.sqrt(np.mean((testTemperature - baseTempPrediction) ** 2)) / scaledAvgTemperature, 4) * 100\n",
    "print(\"Baseline Temperature RRMSE (%): {}\".format(temperatureRRMSE))"
   ]
  },
  {
   "cell_type": "markdown",
   "id": "17b37e8e",
   "metadata": {},
   "source": [
    "Clearly, we hope to beat both baseline models with our trained CNNs."
   ]
  }
 ],
 "metadata": {
  "kernelspec": {
   "display_name": "Python 3 (ipykernel)",
   "language": "python",
   "name": "python3"
  },
  "language_info": {
   "codemirror_mode": {
    "name": "ipython",
    "version": 3
   },
   "file_extension": ".py",
   "mimetype": "text/x-python",
   "name": "python",
   "nbconvert_exporter": "python",
   "pygments_lexer": "ipython3",
   "version": "3.10.6"
  }
 },
 "nbformat": 4,
 "nbformat_minor": 5
}
